{
 "cells": [
  {
   "cell_type": "code",
   "execution_count": 26,
   "metadata": {},
   "outputs": [],
   "source": [
    "using LinearAlgebra\n",
    "using SparseArrays\n",
    "using Arpack\n",
    "using KrylovKit\n",
    "using DelimitedFiles"
   ]
  },
  {
   "cell_type": "markdown",
   "metadata": {},
   "source": [
    "## Now Let's construct State Sectors\n",
    "\n",
    "The Hamiltonian is:\n",
    "$H=-t \\sum_{\\langle i,j \\rangle,s}(c_{i,s}^+c_{j,s}+c_{j,s}^+c_{i,s}) + \\sum_{i} \\mu(n_{i,+}+n_{i,-}) + \\sum_{i} U n_{i,+}n_{i,-} $\n",
    "\n",
    "States with different particle number $N = \\sum_{i,j} \\mu(n_{i,+}+n_{j,-})$ and total $m_z$ values don't mix. \n",
    "\n",
    "For a $N_{site}$ sites cluster, there can be maximally $N = 2 N_{site}$ particles. With $N$ particles, there could be $0\\leq m \\leq N$ spin-up particles, and $N-m$ spin-down particles. In this particular sector, there would be $(_{N_{site}}^m)(_{N_{site}}^{(N-m)})$ states. All sectors should have $4^{N_{site}}$ states in total, which should be checked in the code.\n",
    "\n",
    "First we need to loop over all states, and construct a list of states for $N=0\\to N_{site}$, $m=0\\to N$.\n",
    "\n",
    "- Note that we're using the odd places of the binary representation of a Integer to denote the occupancy of spin-up particles, and even places for spin-down particles. e.g. ($10\\; 00\\; 01\\; 11\\;...$) means there's a spin-up particle at the 1st site, a spin down particles at the 3rd site, and the 4th site is doubly occupied..."
   ]
  },
  {
   "cell_type": "code",
   "execution_count": 2,
   "metadata": {},
   "outputs": [
    {
     "name": "stdout",
     "output_type": "stream",
     "text": [
      "1 1\n",
      "2 2\n",
      "3 3\n",
      "4 4\n",
      "5 5\n",
      "6 6\n",
      "7 7\n",
      "8 8\n",
      "9 9\n",
      "10 0\n"
     ]
    }
   ],
   "source": [
    "a=[1,2,3,4,5,6,7,8,9,0]\n",
    "for (ind, a) in enumerate(a)\n",
    "    println(ind, \" \", a)\n",
    "end"
   ]
  },
  {
   "cell_type": "code",
   "execution_count": 3,
   "metadata": {},
   "outputs": [
    {
     "name": "stdout",
     "output_type": "stream",
     "text": [
      "  0.167324 seconds (549.21 k allocations: 28.464 MiB)\n"
     ]
    },
    {
     "data": {
      "text/plain": [
       "5"
      ]
     },
     "execution_count": 3,
     "metadata": {},
     "output_type": "execute_result"
    }
   ],
   "source": [
    "\"\"\"\n",
    "    Check for the state, how many spins points up. \n",
    "    Input: state: the state to check.\n",
    "           N: the number of sites in the cluster.\n",
    "\n",
    "return the number of spin-up and spin-down particles in the state: (N_up, N_dn)\n",
    "\"\"\"\n",
    "function chk_up_dn(state::Int64,N::Int64)\n",
    "    state_binary = digits!(zeros(Int64, 64), state, base = 2)[1:(2*N)]\n",
    "    up_state_binary = state_binary[1:2:(2*N)]\n",
    "    dn_state_binary = state_binary[2:2:(2*N)]\n",
    "    return (sum(up_state_binary), sum(dn_state_binary))\n",
    "end\n",
    "\n",
    "\"\"\"\n",
    "    Loop over all states, check to which sector the state belongs.\n",
    "return a dictionary:\n",
    "    :states::Array{Array{Int,1},2} : states[N_up][N_dn] gives an array of states in the (N_up, N_dn) sector\n",
    "    :state_tot::Array{Int,2} : state_tot[N_up][N_dn] gives the total number of states in the (N_up, N_dn) sector.\n",
    "    :state_num::Dict{Int64, Int64} : give the state as key, returns the numbering of the state in its (N_up, N_dn) sector.\n",
    "\"\"\"\n",
    "function sectors_info_gen(;N::Int64)\n",
    "    states::Array{Array{Int,1},2} = Array{Int,1}[[] for N_up=0:N, N_dn=0:N]\n",
    "    state_tot::Array{Int,2} = Int[0 for N_up=0:N, N_dn=0:N]\n",
    "    state_num::Dict{Int64, Int64} = Dict{Int64, Int64}()\n",
    "    for state in 0:(4^N-1)\n",
    "        (N_up,N_dn) = chk_up_dn(state, N)\n",
    "        push!(states[N_up+1, N_dn+1], state)\n",
    "        state_tot[N_up+1, N_dn+1] += 1\n",
    "        state_num[state] = state_tot[N_up+1, N_dn+1]\n",
    "    end\n",
    "    @assert(sum(state_tot) == 4^N, \"total number of states is not 4^N\")\n",
    "    return Dict{Symbol, Any}(:states => states, :state_tot => state_tot, :state_num => state_num)\n",
    "end\n",
    "\n",
    "N=5\n",
    "@time sectors_info = sectors_info_gen(N=N)\n",
    "sectors_info[:state_tot][2,1]"
   ]
  },
  {
   "cell_type": "markdown",
   "metadata": {},
   "source": [
    "## Now we can construct the Hamiltonian for a given cluster in a particular sector with $(N_{up}, N_{dn})$\n",
    "\n",
    "The Hamiltonian is:\n",
    "$H=-t \\sum_{\\langle i,j \\rangle,s}(c_{i,s}^+c_{j,s}+c_{j,s}^+c_{i,s}) - \\sum_{i} \\mu(n_{i,+}+n_{i,-}) + \\sum_{i} U n_{i,+}n_{i,-} $"
   ]
  },
  {
   "cell_type": "code",
   "execution_count": 4,
   "metadata": {},
   "outputs": [
    {
     "data": {
      "text/plain": [
       "25×25 SparseMatrixCSC{Float64,Int64} with 125 stored entries:\n",
       "  [1 ,  1]  =  1.4\n",
       "  [2 ,  1]  =  1.0\n",
       "  [3 ,  1]  =  -1.0\n",
       "  [1 ,  2]  =  1.0\n",
       "  [2 ,  2]  =  -5.0\n",
       "  [4 ,  2]  =  1.0\n",
       "  [5 ,  2]  =  -1.0\n",
       "  [10,  2]  =  -1.0\n",
       "  [1 ,  3]  =  -1.0\n",
       "  [3 ,  3]  =  -5.0\n",
       "  [4 ,  3]  =  -1.0\n",
       "  [7 ,  3]  =  -1.0\n",
       "  ⋮\n",
       "  [22, 23]  =  -1.0\n",
       "  [23, 23]  =  -5.0\n",
       "  [25, 23]  =  -1.0\n",
       "  [12, 24]  =  1.0\n",
       "  [16, 24]  =  -1.0\n",
       "  [22, 24]  =  -1.0\n",
       "  [24, 24]  =  -5.0\n",
       "  [25, 24]  =  -1.0\n",
       "  [19, 25]  =  1.0\n",
       "  [20, 25]  =  1.0\n",
       "  [23, 25]  =  -1.0\n",
       "  [24, 25]  =  -1.0\n",
       "  [25, 25]  =  1.4"
      ]
     },
     "execution_count": 4,
     "metadata": {},
     "output_type": "execute_result"
    }
   ],
   "source": [
    "using SparseArrays\n",
    "\n",
    "function update_val(row_inds, col_inds, vals;row_ind, col_ind, val)\n",
    "    push!(row_inds, row_ind)\n",
    "    push!(col_inds, col_ind)\n",
    "    push!(vals, val)\n",
    "end\n",
    "\n",
    "function H_sector(;t::Real, μ::Real, U::Real, N::Int64, N_up::Int64, N_dn::Int64, sectors_info::Dict{Symbol,Any}, bonds)\n",
    "    row_inds = Int64[]\n",
    "    col_inds = Int64[]\n",
    "    vals = Float64[]\n",
    "    states = sectors_info[:states][N_up+1, N_dn+1]\n",
    "    state_tot = sectors_info[:state_tot][N_up+1, N_dn+1]\n",
    "    state_num = sectors_info[:state_num]\n",
    "    for state in states #loop over all states in the sector\n",
    "        state_binary = digits!(zeros(Int64, 64), state, base = 2)[1:(2*N)]\n",
    "        state_binary_up = state_binary[1:2:(2*N)]\n",
    "        state_binary_dn = state_binary[2:2:(2*N)]\n",
    "        #==================== Hubbard U term =====================#\n",
    "        Hu = 0\n",
    "        for site in 1:N \n",
    "            Hu += U*state_binary_up[site]*state_binary_dn[site]\n",
    "        end\n",
    "        update_val(row_inds, col_inds, vals, row_ind = state_num[state], col_ind = state_num[state], val = Hu)\n",
    "        #================= chemical potential term =================#\n",
    "        update_val(row_inds, col_inds, vals, row_ind = state_num[state], col_ind = state_num[state], val = -μ * (N_up+N_dn))\n",
    "        #================= Kinetic term ===============#\n",
    "        for bond in bonds #bond=[s1, s2], where s1,s2 are the two sites of the bond\n",
    "            s1 = bond[1]; s2 = bond[2]\n",
    "            #================== spin-up entries ================#\n",
    "            if (state_binary_up[s1], state_binary_up[s2])==(1,0) || (state_binary_up[s1], state_binary_up[s2])==(0,1)\n",
    "                sgn = (-1)^sum(state_binary[(2*s1):(2*(s2-1))])\n",
    "                flipped_state = state ⊻ (1<<((2*s1-1)-1))\n",
    "                flipped_state = flipped_state ⊻ (1<<((2*s2-1)-1))\n",
    "                update_val(row_inds, col_inds, vals, row_ind = state_num[state], col_ind = state_num[flipped_state], val = sgn * (-t))\n",
    "            end\n",
    "            #================== spin-dn entries ================#\n",
    "            if (state_binary_dn[s1], state_binary_dn[s2])==(1,0) || (state_binary_dn[s1], state_binary_dn[s2])==(0,1)\n",
    "                sgn = (-1)^sum(state_binary[(2*s1+1):(2*s2-1)])\n",
    "                flipped_state = state ⊻ (1<<(2*s1-1))\n",
    "                flipped_state = flipped_state ⊻ (1<<(2*s2-1))\n",
    "                update_val(row_inds, col_inds, vals, row_ind = state_num[state], col_ind = state_num[flipped_state], val = sgn * (-t))\n",
    "            end\n",
    "        end\n",
    "    end\n",
    "    return sparse(row_inds, col_inds, vals, state_tot, state_tot, +)\n",
    "end\n",
    "bonds = [[1,2],[2,3],[2,4],[3,5],[4,5]]\n",
    "H_sector(;t=1, μ=5.7-0.5*6.4, U=6.4, N=5, N_up=1, N_dn=1, sectors_info=sectors_info, bonds=bonds)"
   ]
  },
  {
   "cell_type": "code",
   "execution_count": 5,
   "metadata": {},
   "outputs": [
    {
     "data": {
      "text/plain": [
       "Eigen{Float64,Float64,Array{Float64,2},Array{Float64,1}}\n",
       "eigenvalues:\n",
       "1-element Array{Float64,1}:\n",
       " -57.0\n",
       "eigenvectors:\n",
       "1×1 Array{Float64,2}:\n",
       " 1.0"
      ]
     },
     "execution_count": 5,
     "metadata": {},
     "output_type": "execute_result"
    }
   ],
   "source": [
    "H = H_sector(;t=1, μ=8.9, U=6.4, N=5, N_up=5, N_dn=5, sectors_info=sectors_info, bonds=bonds)\n",
    "(Es, states) = eigen(Matrix(H))"
   ]
  },
  {
   "cell_type": "markdown",
   "metadata": {},
   "source": [
    "## Calculate Properties for the system\n",
    "Need to loop over all sectors($m=0$-$N$). Diagonalize the sector, loop over all eigen vectors. For each eigen vector,  Calculate contribution to the\n",
    "\n",
    "1. \"denominator\"(partition fcn) $P=e^{-\\beta E}$\n",
    "2. \"Energy\" $=EP$\n",
    "3. \"Esq\" $=E^2P$\n",
    "4. \"Magnetization\" $=MP$\n",
    "4. \"Msq\" $=M^2P$"
   ]
  },
  {
   "cell_type": "code",
   "execution_count": 6,
   "metadata": {},
   "outputs": [
    {
     "name": "stdout",
     "output_type": "stream",
     "text": [
      "  0.103342 seconds (268.21 k allocations: 17.273 MiB)\n"
     ]
    },
    {
     "data": {
      "text/plain": [
       "9.949770629608272"
      ]
     },
     "execution_count": 6,
     "metadata": {},
     "output_type": "execute_result"
    }
   ],
   "source": [
    "function measure(;T::Real, t::Real, μ::Real, U::Real, N::Int64, sectors_info::Dict{Symbol,Any}, bonds::Array{Array{Int,1},1})\n",
    "    β = 1/T\n",
    "    P::Float64 = 0\n",
    "    E::Float64 = 0\n",
    "    Esq::Float64 = 0\n",
    "    M::Float64 = 0\n",
    "    Msq::Float64 = 0\n",
    "    N_tot::Float64 = 0\n",
    "    for N_up=0:N, N_dn=0:N\n",
    "        #println(\"N_up=$N_up, N_dn=$N_dn\")\n",
    "        H_m = H_sector(;t=t, μ=μ, U=U, N=N, N_up=N_up, N_dn=N_dn, sectors_info=sectors_info, bonds=bonds)\n",
    "        (Es, states) = eigen(Hermitian(Matrix(H_m)))\n",
    "        for (n, En) in enumerate(Es)\n",
    "            ΔP = exp(-β*En)\n",
    "            P += ΔP\n",
    "            E += En * ΔP\n",
    "            Esq += En^2 * ΔP\n",
    "            M += ((N_up-N_dn)*1/2) * ΔP\n",
    "            Msq += ((N_up-N_dn)*1/2)^2 * ΔP\n",
    "            N_tot += (N_up+N_dn) * ΔP\n",
    "        end\n",
    "    end\n",
    "    return (P,E,Esq,M,Msq,N_tot)\n",
    "end\n",
    "\n",
    "@time result = measure(;T=0.10025884, t=1, μ=5.7+3.2, U=6.4, N=5, sectors_info=sectors_info, bonds=bonds)\n",
    "N_tot=result[6]/result[1]\n",
    "E_tot=result[2]/result[1]\n",
    "N_tot\n",
    "#E_tot+5.7*N_tot"
   ]
  },
  {
   "cell_type": "code",
   "execution_count": 28,
   "metadata": {},
   "outputs": [],
   "source": [
    "Ts = readdlm(\"../data/Properties.dat\")[2:end,2] #temperature of the data file of Prof.Khatami\n",
    "open(\"../data/properties_Yutan.dat\", \"w\") do io\n",
    "    writedlm(io, [\"T\" \"<N>\" \"<E>\"])\n",
    "    for T in Ts\n",
    "        result = measure(;T=T, t=1, μ=5.7+3.2, U=6.4, N=5, sectors_info=sectors_info, bonds=bonds)\n",
    "        N_tot=result[6]/result[1]\n",
    "        E_tot=result[2]/result[1]\n",
    "        E_tot = E_tot+5.7*N_tot+5/4*6.4\n",
    "        writedlm(io, [T N_tot E_tot])\n",
    "    end\n",
    "end;\n"
   ]
  },
  {
   "cell_type": "code",
   "execution_count": 8,
   "metadata": {},
   "outputs": [
    {
     "data": {
      "text/plain": [
       "SparseMatrixCSC{Complex{Float64},Int64}"
      ]
     },
     "execution_count": 8,
     "metadata": {},
     "output_type": "execute_result"
    }
   ],
   "source": [
    "# Test code\n",
    "rows=[1,1,2,2]\n",
    "cols=[1,2,1,2]\n",
    "vals = [0,0.5*im,-0.5*im, 0]\n",
    "H=sparse(rows, cols, vals, 2, 2, +)\n",
    "eigs1 = eigsolve(H, 2, :SR, eltype(H), tol = 10^(-20))\n",
    "typeof(H)"
   ]
  },
  {
   "cell_type": "code",
   "execution_count": 25,
   "metadata": {},
   "outputs": [
    {
     "data": {
      "text/plain": [
       "70-element Array{Any,1}:\n",
       " 5.7\n",
       " 5.7\n",
       " 5.7\n",
       " 5.7\n",
       " 5.7\n",
       " 5.7\n",
       " 5.7\n",
       " 5.7\n",
       " 5.7\n",
       " 5.7\n",
       " 5.7\n",
       " 5.7\n",
       " 5.7\n",
       " ⋮  \n",
       " 5.7\n",
       " 5.7\n",
       " 5.7\n",
       " 5.7\n",
       " 5.7\n",
       " 5.7\n",
       " 5.7\n",
       " 5.7\n",
       " 5.7\n",
       " 5.7\n",
       " 5.7\n",
       " 5.7"
      ]
     },
     "execution_count": 25,
     "metadata": {},
     "output_type": "execute_result"
    }
   ],
   "source": [
    "\n"
   ]
  },
  {
   "cell_type": "code",
   "execution_count": null,
   "metadata": {},
   "outputs": [],
   "source": []
  }
 ],
 "metadata": {
  "kernelspec": {
   "display_name": "Julia 1.3.1",
   "language": "julia",
   "name": "julia-1.3"
  },
  "language_info": {
   "file_extension": ".jl",
   "mimetype": "application/julia",
   "name": "julia",
   "version": "1.3.1"
  }
 },
 "nbformat": 4,
 "nbformat_minor": 4
}
