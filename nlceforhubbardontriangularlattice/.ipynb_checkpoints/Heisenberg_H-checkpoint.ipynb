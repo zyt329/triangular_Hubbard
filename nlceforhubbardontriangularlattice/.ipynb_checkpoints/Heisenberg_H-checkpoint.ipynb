{
 "cells": [
  {
   "cell_type": "code",
   "execution_count": 1,
   "metadata": {},
   "outputs": [],
   "source": [
    "using LinearAlgebra\n",
    "using SparseArrays\n",
    "using Arpack"
   ]
  },
  {
   "cell_type": "markdown",
   "metadata": {},
   "source": [
    "using Documenter, Example\n",
    "\n",
    "makedocs(sitename=\"My Documentation\")\n",
    "push!(LOAD_PATH,\"../src/\")"
   ]
  },
  {
   "cell_type": "code",
   "execution_count": 2,
   "metadata": {},
   "outputs": [
    {
     "data": {
      "text/plain": [
       "6-element Array{Array{Int64,1},1}:\n",
       " [0]\n",
       " [1]\n",
       " [2]\n",
       " [3]\n",
       " [4]\n",
       " [5]"
      ]
     },
     "execution_count": 2,
     "metadata": {},
     "output_type": "execute_result"
    }
   ],
   "source": [
    "a = Array{Int,1}[[i] for i in 0:5]\n",
    "a"
   ]
  },
  {
   "cell_type": "markdown",
   "metadata": {},
   "source": [
    "## Now Let's construct Parity States\n",
    "\n",
    "The Hamiltonian is:\n",
    "$H=J\\sum_{i=1}^{N}(S_i^z S_{i+1}^z + 1/2(S_i^+ S_{i+1}^- + S_i^- S_{i+1}^+)) $\n",
    "\n",
    "States with different total $m_z$ values don't mix. For a $N$ sites cluster, with $m$ spins takes up direction, there are $(_N^m)$ states.\n",
    "\n",
    "First we need to loop over all states, and construct a list of states for $m=0$ to $m=N$."
   ]
  },
  {
   "cell_type": "code",
   "execution_count": 46,
   "metadata": {},
   "outputs": [
    {
     "data": {
      "text/plain": [
       "Dict{Symbol,Any} with 3 entries:\n",
       "  :state_num => Dict(0=>1,2=>2,3=>1,1=>1)\n",
       "  :states    => Array{Int64,1}[[0], [1, 2], [3]]\n",
       "  :state_tot => [1, 2, 1]"
      ]
     },
     "execution_count": 46,
     "metadata": {},
     "output_type": "execute_result"
    }
   ],
   "source": [
    "\"\"\"\n",
    "    Check for the state, how many spins points up. \n",
    "    Input: state: the state to check.\n",
    "           N: the number of sites in the cluster.\n",
    "\n",
    "return the number of up spins in the state.\n",
    "\"\"\"\n",
    "function chk_m(state::Int64,N::Int64)\n",
    "    state_binary = digits!(zeros(Int64, 64), state, base = 2)[1:N]\n",
    "    return sum(state_binary)\n",
    "end\n",
    "\n",
    "\"\"\"\n",
    "    Loop over all states, check which sector the state belongs.\n",
    "return a dictionary:\n",
    "    :states::Array{Array{Int,1},1} : the m+1 th entry gives an array of states in the m sector\n",
    "    :state_tot::Array{Int,1} : the m+1 th entry gives the total number of states in the m sector.\n",
    "    :state_num::Dict{Int64, Int64} : give the state as key, returns the numbering of the state in its m sector.\n",
    "\"\"\"\n",
    "function sectors_info_gen(;N::Int64)\n",
    "    states::Array{Array{Int,1},1} = Array{Int,1}[[] for i in 0:N]\n",
    "    state_tot::Array{Int,1} = Int[0 for i in 0:N]\n",
    "    state_num::Dict{Int64, Int64} = Dict{Int64, Int64}()\n",
    "    for state in 0:(2^N-1)\n",
    "        m = chk_m(state, N)\n",
    "        push!(states[m+1], state)\n",
    "        state_tot[m+1] += 1\n",
    "        state_num[state] = state_tot[m+1]\n",
    "    end\n",
    "    @assert(sum(state_tot) == 2^N, \"total number of states is not 2^N\")\n",
    "    return Dict{Symbol, Any}(:states => states, :state_tot => state_tot, :state_num => state_num)\n",
    "end\n",
    "\n",
    "N=2\n",
    "sectors_info = sectors_info_gen(N=N)"
   ]
  },
  {
   "cell_type": "markdown",
   "metadata": {},
   "source": [
    "### Now construct Hamiltonian for each momentum sector using the previously generated momentum states\n",
    "\n",
    "The Hamiltonian is:\n",
    "$H=J\\sum_{i=1}^{N}(S_i^z S_{i+1}^z + 1/2(S_i^+ S_{i+1}^- + S_i^- S_{i+1}^+)) $, default $J=1$. $S_i^z = \\pm \\frac{1}{2}$\n",
    "\n",
    "We construct the Hamiltonian for the $m$th sector."
   ]
  },
  {
   "cell_type": "code",
   "execution_count": 47,
   "metadata": {
    "scrolled": true
   },
   "outputs": [
    {
     "data": {
      "text/plain": [
       "1-element Array{Array{Int64,1},1}:\n",
       " [1, 2]"
      ]
     },
     "execution_count": 47,
     "metadata": {},
     "output_type": "execute_result"
    }
   ],
   "source": [
    "using SparseArrays\n",
    "\n",
    "function update_val(row_inds, col_inds, vals;row_ind, col_ind, val)\n",
    "    push!(row_inds, row_ind)\n",
    "    push!(col_inds, col_ind)\n",
    "    push!(vals, val)\n",
    "end\n",
    "\n",
    "function H_sector(;J::Float64, N::Int64, m::Int64, sectors_info::Dict{Symbol,Any}, bonds)\n",
    "    row_inds = Int64[]\n",
    "    col_inds = Int64[]\n",
    "    vals = Float64[]\n",
    "    states = sectors_info[:states][m+1]\n",
    "    state_tot = sectors_info[:state_tot][m+1]\n",
    "    state_num = sectors_info[:state_num]\n",
    "    for state in states #loop over all states in the sector\n",
    "        state_binary = digits!(zeros(Int64, 64), state, base = 2)\n",
    "        for bond in bonds #bond=[s1, s2], where s1,s2 are the two sites of the bond\n",
    "            s1 = bond[1]; s2 = bond[2]\n",
    "            if state_binary[s1] == state_binary[s2]\n",
    "                update_val(row_inds, col_inds, vals, row_ind = state_num[state], col_ind = state_num[state], val = (1/4) * J)\n",
    "            else\n",
    "                update_val(row_inds, col_inds, vals, row_ind = state_num[state], col_ind = state_num[state], val = -(1/4) * J)\n",
    "                flipped_state = state ⊻ (1<<(s1-1))\n",
    "                flipped_state = flipped_state ⊻ (1<<(s2-1))\n",
    "                update_val(row_inds, col_inds, vals, row_ind = state_num[state], col_ind = state_num[flipped_state], val = (1/2) * J)\n",
    "            end\n",
    "        end\n",
    "    end\n",
    "    return sparse(row_inds, col_inds, vals, state_tot, state_tot, +)\n",
    "end\n",
    "bonds = [[1,2]]\n",
    "#bonds = [[1,2],[2,3],[3,4],[4,5],[5,6],[6,7],[7,8]]\n",
    "#println(H_sector(J=1.0, N=N, m=3, sectors_info=sectors_info, bonds=bonds))"
   ]
  },
  {
   "cell_type": "code",
   "execution_count": 48,
   "metadata": {},
   "outputs": [
    {
     "data": {
      "text/plain": [
       "1-element Array{Float64,1}:\n",
       " 1.0"
      ]
     },
     "execution_count": 48,
     "metadata": {},
     "output_type": "execute_result"
    }
   ],
   "source": [
    "H = H_sector(J=1.0, N=N, m=0, sectors_info=sectors_info, bonds=bonds)\n",
    "(Es, states) = eigen(Matrix(H))\n",
    "states[:,1]"
   ]
  },
  {
   "cell_type": "markdown",
   "metadata": {},
   "source": [
    "## Functions to calculate properties for a given quantum state\n",
    "$M$, $Msq$ wouldn't need this as it would all be the same in the same sector. Other measurements would need to be separately calculated if it doesn't commute with $H$."
   ]
  },
  {
   "cell_type": "code",
   "execution_count": 29,
   "metadata": {},
   "outputs": [
    {
     "ename": "LoadError",
     "evalue": "\u001b[91msyntax: unexpected \"end\"\u001b[39m",
     "output_type": "error",
     "traceback": [
      "\u001b[91msyntax: unexpected \"end\"\u001b[39m",
      ""
     ]
    }
   ],
   "source": [
    "function M_calc(;state::Int64, N::Int64, sectors_info::Dict{Symbol,Any})\n",
    "    states = sectors_info[:states][m+1]\n",
    "    M = 0\n",
    "    for basis_state in states\n",
    "        state_binary = digits!(zeros(Int64, 64), state, base = 2)[1:N]\n",
    "        M += \n",
    "    end\n",
    "    return\n",
    "end"
   ]
  },
  {
   "cell_type": "markdown",
   "metadata": {},
   "source": [
    "## Calculate Properties for the system\n",
    "Need to loop over all sectors($m=0$-$N$). Diagonalize the sector, loop over all eigen vectors. For each eigen vector,  Calculate contribution to the\n",
    "\n",
    "1. \"denominator\"(partition fcn) $P=e^{-\\beta E}$\n",
    "2. \"Energy\" $=EP$\n",
    "3. \"Esq\" $=E^2P$\n",
    "4. \"Magnetization\" $=MP$\n",
    "4. \"Msq\" $=M^2P$"
   ]
  },
  {
   "cell_type": "code",
   "execution_count": 57,
   "metadata": {},
   "outputs": [
    {
     "name": "stdout",
     "output_type": "stream",
     "text": [
      "[0.25]\n",
      "[-0.75, 0.25]\n",
      "[0.25]\n"
     ]
    },
    {
     "data": {
      "text/plain": [
       "-0.75"
      ]
     },
     "execution_count": 57,
     "metadata": {},
     "output_type": "execute_result"
    }
   ],
   "source": [
    "function measure(;T::Float64, N::Int64, sectors_info::Dict{Symbol,Any}, bonds::Array{Array{Int,1},1})\n",
    "    β = 1/T\n",
    "    P::Float64 = 0\n",
    "    E::Float64 = 0\n",
    "    Esq::Float64 = 0\n",
    "    M::Float64 = 0\n",
    "    Msq::Float64 = 0\n",
    "    for m in 0:N\n",
    "        H_m = H_sector(J=1.0, N=N, m=m, sectors_info=sectors_info, bonds=bonds)\n",
    "        (Es, states) = eigen(Hermitian(Matrix(H_m)))\n",
    "        println(Es)\n",
    "        for (n, En) in enumerate(Es)\n",
    "            ΔP = exp(-β*En)\n",
    "            P += ΔP\n",
    "            E += En * ΔP\n",
    "            Esq += En^2 * ΔP\n",
    "            M += ((2m-N)*1/2) * ΔP\n",
    "            Msq += ((2m-N)*1/2)^2 * ΔP\n",
    "        end\n",
    "    end\n",
    "    return (P,E,Esq,M,Msq)\n",
    "end\n",
    "\n",
    "result = measure(;T=0.01, N=2, sectors_info=sectors_info, bonds=bonds)\n",
    "E=result[2]/result[1]\n",
    "E"
   ]
  },
  {
   "cell_type": "code",
   "execution_count": 56,
   "metadata": {},
   "outputs": [
    {
     "name": "stdout",
     "output_type": "stream",
     "text": [
      "x=1\n",
      "y=0.1\n",
      "x=2\n",
      "y=0.2\n"
     ]
    }
   ],
   "source": [
    "a=[0.1,0.2]\n",
    "for (x,y) in enumerate(a)\n",
    "    println(\"x=$x\")\n",
    "    println(\"y=$y\")\n",
    "end"
   ]
  },
  {
   "cell_type": "code",
   "execution_count": null,
   "metadata": {},
   "outputs": [],
   "source": []
  }
 ],
 "metadata": {
  "kernelspec": {
   "display_name": "Julia 1.3.0",
   "language": "julia",
   "name": "julia-1.3"
  },
  "language_info": {
   "file_extension": ".jl",
   "mimetype": "application/julia",
   "name": "julia",
   "version": "1.3.0"
  }
 },
 "nbformat": 4,
 "nbformat_minor": 4
}
